{
 "cells": [
  {
   "cell_type": "markdown",
   "id": "5db48322",
   "metadata": {},
   "source": [
    "# Parallel Tempering Demo\n",
    "\n",
    "Parallel tempering (aka replica exchange) is a simulation method used to sample potential energy surfaces. Particularly at low temperatures, traditional Markov Chain Monte Carlo (MCMC) simulations are prone to getting \"stuck\" in local minima, failing to explore the entire surface. \n",
    "\n",
    "Parallel tempering rectifies this shortcoming by running multiple simulations in parallel at different temperatures. Systems then have some probability of swapping configurations with one another at a given step, allowing low temperature systems to escape local minima the way higher temperature systems may.\n",
    "\n",
    "This demo seeks to provide a brief, qualitative demonstration of this."
   ]
  },
  {
   "cell_type": "code",
   "execution_count": 2,
   "id": "066c12ff",
   "metadata": {},
   "outputs": [],
   "source": [
    "import numpy as np\n",
    "from matplotlib import pyplot as plt\n",
    "\n",
    "from timeit import default_timer as timer\n",
    "\n",
    "import ipywidgets as widgets\n",
    "from IPython.display import display, clear_output"
   ]
  },
  {
   "cell_type": "markdown",
   "id": "66481674",
   "metadata": {},
   "source": [
    "Consider the following potential energy function, with minima at $x \\in \\{-1.25, -0.25, 0.75, 1.75\\}$:"
   ]
  },
  {
   "cell_type": "code",
   "execution_count": 19,
   "id": "c3a91cbc",
   "metadata": {},
   "outputs": [
    {
     "data": {
      "image/png": "[encoded data removed]",
      "text/plain": [
       "<Figure size 1475x125 with 1 Axes>"
      ]
     },
     "metadata": {},
     "output_type": "display_data"
    }
   ],
   "source": [
    "def U(x):\n",
    "    tpx = 2*np.pi*x\n",
    "    if x < -2: return float('inf')\n",
    "    if x <= -1.25: return 1 + np.sin(tpx)\n",
    "    if x <= -0.25: return 2*(1 + np.sin(tpx))\n",
    "    if x <= 0.75: return 3*(1 + np.sin(tpx))\n",
    "    if x <= 1.75: return 4*(1 + np.sin(tpx))\n",
    "    if x <= 2: return 5*(1 + np.sin(tpx))\n",
    "    return float('inf')\n",
    "\n",
    "x = np.linspace(-2, 2, 1000)\n",
    "\n",
    "plt.figure(figsize=(14.75, 1.25))\n",
    "plt.plot(x, list(map(U, x)))\n",
    "plt.plot(x, np.zeros(1000), '--r')\n",
    "plt.xlim([-2, 2])\n",
    "plt.ylim([-1, 10])\n",
    "plt.show()"
   ]
  },
  {
   "cell_type": "markdown",
   "id": "a3cff2b4",
   "metadata": {},
   "source": [
    "## Monte Carlo\n",
    "\n",
    "We place a particle at $x=-1.25$, in the shallowest, leftmost well. Using the Monte Carlo widget below, simulate the probability distribution of the particle over time at various temperatures. What distribution do you observe? Is this distribution consistent with your intuition?"
   ]
  },
  {
   "cell_type": "code",
   "execution_count": 4,
   "id": "ffcf4c38",
   "metadata": {},
   "outputs": [
    {
     "data": {
      "application/vnd.jupyter.widget-view+json": {
       "model_id": "828d40a2ca7844a5811433ca73c3cb99",
       "version_major": 2,
       "version_minor": 0
      },
      "text/plain": [
       "VBox(children=(HBox(children=(Button(description='+1,000 cycles', style=ButtonStyle()), Button(description='+1…"
      ]
     },
     "metadata": {},
     "output_type": "display_data"
    }
   ],
   "source": [
    "mc_plot_output = widgets.Output()\n",
    "\n",
    "def mc_plot_histograms(poss):\n",
    "    with mc_plot_output:\n",
    "        clear_output(wait=True)\n",
    "    \n",
    "        mc_poss1, mc_poss2, mc_poss3 = poss\n",
    "        x = np.linspace(-2, 2, 1000)\n",
    "        fig, axs = plt.subplots(4, figsize=(12, 6), sharex=True)\n",
    "\n",
    "        axs[0].hist(mc_poss3, density=True, bins=200, ls='dashed', lw=3, alpha=0.5, color='r')\n",
    "        axs[0].set_title(\"T = 2.0 \", loc='right', pad=-14)\n",
    "        axs[0].set_xlim([-2, 2])\n",
    "\n",
    "        axs[1].hist(mc_poss2, density=True, bins=100, ls='dashed', lw=3, alpha=0.5, color='y')\n",
    "        axs[1].set_title(\"T = 0.3 \", loc='right', pad=-14)\n",
    "        axs[1].set_xlim([-2, 2])\n",
    "\n",
    "        axs[2].hist(mc_poss1, density=True, bins=50, ls='dashed', lw=3, alpha=0.5, color='b')\n",
    "        axs[2].set_title(\"T = 0.05 \", loc='right', pad=-14)\n",
    "        axs[2].set_xlim([-2, 2])\n",
    "\n",
    "        axs[3].plot(x, list(map(U, x)))\n",
    "        axs[3].set_title(\"U(x) \", loc='right', pad=-14)\n",
    "        axs[3].set_xlim([-2, 2])\n",
    "        axs[3].set_ylim(0)\n",
    "\n",
    "        fig.tight_layout()\n",
    "        plt.show()\n",
    "\n",
    "def monte_carlo(poss, MC_CYCLES):\n",
    "    for _ in range(MC_CYCLES):\n",
    "        row = np.random.randint(0, 3)\n",
    "        curr = poss[row][-1]\n",
    "        prop = curr + np.random.uniform(-0.1, 0.1)\n",
    "\n",
    "        U_i, U_j = U(curr), U(prop)\n",
    "\n",
    "        if U_j < U_i or np.random.rand() < np.exp((U_i - U_j)/[0.05, 0.3, 2.0][row]):\n",
    "            curr = prop\n",
    "        poss[row].append(curr)\n",
    "    return poss\n",
    "\n",
    "def update_monte_carlo(additional_cycles):\n",
    "    global mc_poss1, mc_poss2, mc_poss3\n",
    "    poss = mc_poss1, mc_poss2, mc_poss3\n",
    "    mc_poss1, mc_poss2, mc_poss3 = monte_carlo(poss, additional_cycles)\n",
    "    mc_plot_histograms(poss)\n",
    "\n",
    "initial_cycles = 0  # Initial number of cycles\n",
    "mc_poss1, mc_poss2, mc_poss3 = monte_carlo([[-1.25], [-1.25], [-1.25]], initial_cycles)  # Initial simulation\n",
    "\n",
    "incr_button1 = widgets.Button(description=\"+1,000 cycles\")\n",
    "incr_button2 = widgets.Button(description=\"+10,000 cycles\")\n",
    "incr_button3 = widgets.Button(description=\"+100,000 cycles\")\n",
    "reset_button = widgets.Button(description=\"Reset Simulation\")\n",
    "\n",
    "def on_incr_button_clicked1(b):\n",
    "    update_monte_carlo(1000)\n",
    "\n",
    "def on_incr_button_clicked2(b):\n",
    "    update_monte_carlo(10000)\n",
    "\n",
    "def on_incr_button_clicked3(b):\n",
    "    update_monte_carlo(100000)\n",
    "\n",
    "def on_reset_button_clicked(b):\n",
    "    global mc_poss1, mc_poss2, mc_poss3\n",
    "    mc_poss1, mc_poss2, mc_poss3 = monte_carlo([[-1.25], [-1.25], [-1.25]], initial_cycles)\n",
    "    update_monte_carlo(0)\n",
    "\n",
    "incr_button1.on_click(on_incr_button_clicked1)\n",
    "incr_button2.on_click(on_incr_button_clicked2)\n",
    "incr_button3.on_click(on_incr_button_clicked3)\n",
    "reset_button.on_click(on_reset_button_clicked)\n",
    "display(\n",
    "    widgets.VBox([\n",
    "        widgets.HBox([incr_button1, incr_button2, incr_button3, reset_button]), \n",
    "        mc_plot_output\n",
    "    ])\n",
    ") \n",
    "\n",
    "# Initial plot\n",
    "mc_plot_histograms([mc_poss1, mc_poss2, mc_poss3])"
   ]
  },
  {
   "cell_type": "markdown",
   "id": "5dfbf97f",
   "metadata": {},
   "source": [
    "You should observe the following:\n",
    "\n",
    "The densities for the lowest temperature of $T=0.05$ is localized near the starting point. There is some slight asymmetry in the peak, reflective of the asymmetry in the potential energy function that makes particles more likely to go left than right. \n",
    "\n",
    "At the temperature of $T=0.3$, the particle is still localized near the starting point, but it is able to climb higher up the energy barrier, reflected by the density becoming more diffuse. It also manages to cross over to the left local minimum briefly, though it still lacks the energy to go right. \n",
    "\n",
    "At the temperature of $T=2.0$, the particle now has enough energy to cross over all the potential barriers. Thus, it samples the four local minima roughly equally. The leftmost peak still appears slightly higher, indicating there is still some bias towards the initial starting point. The rightmost peak is the highest, because particles that enter that well have the hardest time getting out. There is some density at the left of the box but not the right because the left boundary of the box is a local minimum while the right boundary is not. "
   ]
  },
  {
   "cell_type": "markdown",
   "id": "75e7117d",
   "metadata": {},
   "source": [
    "## Parallel Tempering\n",
    "\n",
    "Now, perform the same simulation but using the widget below, which has been implemented using parallel tempering. What distribution do you observe? Is this distribution consistent with your intuition?"
   ]
  },
  {
   "cell_type": "code",
   "execution_count": 5,
   "id": "b768ba0f",
   "metadata": {},
   "outputs": [
    {
     "data": {
      "application/vnd.jupyter.widget-view+json": {
       "model_id": "2ace94dfbaee4487a9c2e63631876543",
       "version_major": 2,
       "version_minor": 0
      },
      "text/plain": [
       "VBox(children=(HBox(children=(Button(description='+1,000 cycles', style=ButtonStyle()), Button(description='+1…"
      ]
     },
     "metadata": {},
     "output_type": "display_data"
    }
   ],
   "source": [
    "pt_plot_output = widgets.Output()\n",
    "\n",
    "def pt_plot_histograms(poss):\n",
    "    with pt_plot_output:\n",
    "        clear_output(wait=True)\n",
    "    \n",
    "        pt_poss1, pt_poss2, pt_poss3 = poss\n",
    "        x = np.linspace(-2, 2, 1000)\n",
    "        fig, axs = plt.subplots(4, figsize=(12, 6), sharex=True)\n",
    "\n",
    "        axs[0].hist(pt_poss3, density=True, bins=200, ls='dashed', lw=3, alpha=0.5, color='r')\n",
    "        axs[0].set_title(\"T = 2.0 \", loc='right', pad=-14)\n",
    "        axs[0].set_xlim([-2, 2])\n",
    "\n",
    "        axs[1].hist(pt_poss2, density=True, bins=100, ls='dashed', lw=3, alpha=0.5, color='y')\n",
    "        axs[1].set_title(\"T = 0.3 \", loc='right', pad=-14)\n",
    "        axs[1].set_xlim([-2, 2])\n",
    "\n",
    "        axs[2].hist(pt_poss1, density=True, bins=50, ls='dashed', lw=3, alpha=0.5, color='b')\n",
    "        axs[2].set_title(\"T = 0.05 \", loc='right', pad=-14)\n",
    "        axs[2].set_xlim([-2, 2])\n",
    "\n",
    "        axs[3].plot(x, list(map(U, x)))\n",
    "        axs[3].set_title(\"U(x) \", loc='right', pad=-14)\n",
    "        axs[3].set_xlim([-2, 2])\n",
    "        axs[3].set_ylim(0)\n",
    "\n",
    "        fig.tight_layout()\n",
    "        plt.show()\n",
    "\n",
    "def parallel_tempering(poss, MC_CYCLES):\n",
    "    for i in range(MC_CYCLES):\n",
    "        if np.random.rand() < 0.9: # displacement\n",
    "            row = np.random.randint(0, 3)\n",
    "            curr = poss[row][-1]\n",
    "            prop = curr + np.random.uniform(-0.1, 0.1)\n",
    "\n",
    "            U_i, U_j = U(curr), U(prop)\n",
    "            if U_j < U_i or np.random.rand() < np.exp((U_i - U_j)/[0.05, 0.3, 2.0][row]):\n",
    "                curr = prop\n",
    "            poss[row].append(curr)\n",
    "        else: # hamiltonian\n",
    "            n1 = np.random.randint(0, 2)\n",
    "            n2 = n1+1\n",
    "            \n",
    "            beta1, beta2 = 1/[0.05, 0.3, 2.0][n1], 1/[0.05, 0.3, 2.0][n2]\n",
    "            zeta = np.exp((beta2 - beta1)*(U(poss[n2][-1]) - U(poss[n1][-1])))\n",
    "            \n",
    "            if np.random.rand() < min(1, zeta):\n",
    "                poss[n1][-1], poss[n2][-1] = poss[n2][-1], poss[n1][-1]\n",
    "\n",
    "    return poss\n",
    "\n",
    "def update_parallel_tempering(additional_cycles):\n",
    "    global pt_poss1, pt_poss2, pt_poss3\n",
    "    poss = pt_poss1, pt_poss2, pt_poss3\n",
    "    pt_poss1, pt_poss2, pt_poss3 = parallel_tempering(poss, additional_cycles)\n",
    "    pt_plot_histograms(poss)\n",
    "\n",
    "initial_cycles = 0  # Initial number of cycles\n",
    "pt_poss1, pt_poss2, pt_poss3 = parallel_tempering([[-1.25], [-1.25], [-1.25]], initial_cycles)  # Initial simulation\n",
    "\n",
    "incr_button1 = widgets.Button(description=\"+1,000 cycles\")\n",
    "incr_button2 = widgets.Button(description=\"+10,000 cycles\")\n",
    "incr_button3 = widgets.Button(description=\"+100,000 cycles\")\n",
    "reset_button = widgets.Button(description=\"Reset Simulation\")\n",
    "\n",
    "def on_incr_button_clicked1(b):\n",
    "    update_parallel_tempering(1000)\n",
    "\n",
    "def on_incr_button_clicked2(b):\n",
    "    update_parallel_tempering(10000)\n",
    "\n",
    "def on_incr_button_clicked3(b):\n",
    "    update_parallel_tempering(100000)\n",
    "\n",
    "def on_reset_button_clicked(b):\n",
    "    global pt_poss1, pt_poss2, pt_poss3\n",
    "    pt_poss1, pt_poss2, pt_poss3 = parallel_tempering([[-1.25], [-1.25], [-1.25]], initial_cycles)\n",
    "    update_parallel_tempering(0)\n",
    "\n",
    "incr_button1.on_click(on_incr_button_clicked1)\n",
    "incr_button2.on_click(on_incr_button_clicked2)\n",
    "incr_button3.on_click(on_incr_button_clicked3)\n",
    "reset_button.on_click(on_reset_button_clicked)\n",
    "display(\n",
    "    widgets.VBox([\n",
    "        widgets.HBox([incr_button1, incr_button2, incr_button3, reset_button]), \n",
    "        pt_plot_output\n",
    "    ])\n",
    ") \n",
    "\n",
    "# Initial plot\n",
    "pt_plot_histograms([pt_poss1, pt_poss2, pt_poss3])"
   ]
  },
  {
   "cell_type": "markdown",
   "id": "3870261d",
   "metadata": {},
   "source": [
    "You should observe the following:\n",
    "\n",
    "For $T = 2.0$, the distribution is largely unchanged. This makes sense as the temperature of the system is already high enough to sample every position. \n",
    "\n",
    "For $T = 0.3$, the distribution now has peaks at every local minima. This is because, during some iterations, it can exchange with the $T = 2.0$ system, which is likely to be near another local minima, allowing it to then make displacement moves around that minima as well. We see about the same density near the metastable $x=-2.0$ state. I'm not exactly sure why this is the case, but it could be because the $T = 0.3$ system is more likely to go towards the right, since the rightmost peak of the $T = 2.0$ state is the most likely and, if it does go left, it will quickly swap out of that state. \n",
    "\n",
    "For $T = 0.05$, similar to the $T = 0.3$ distribution, we now see peaks at every zero. This is because it can exchange with the $T = 0.3$ system, which now can sample all local minima. However, we still do not see density near the metastable state, because the $T = 0.3$ has negligible density in that area."
   ]
  }
 ],
 "metadata": {
  "kernelspec": {
   "display_name": "Python 3 (ipykernel)",
   "language": "python",
   "name": "python3"
  },
  "language_info": {
   "codemirror_mode": {
    "name": "ipython",
    "version": 3
   },
   "file_extension": ".py",
   "mimetype": "text/x-python",
   "name": "python",
   "nbconvert_exporter": "python",
   "pygments_lexer": "ipython3",
   "version": "3.8.18"
  }
 },
 "nbformat": 4,
 "nbformat_minor": 5
}
